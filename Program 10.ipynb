{
 "cells": [
  {
   "cell_type": "code",
   "execution_count": 1,
   "metadata": {},
   "outputs": [
    {
     "name": "stdout",
     "output_type": "stream",
     "text": [
      "Welcome to the 'Three-Year-Old Simulator'\n",
      "\n",
      "This program simulates a conversation with a three-year old child.\n",
      "Try to stop the madness.\n",
      "\n",
      "Why?\n",
      "Because.\n",
      "Oh. Okay.\n"
     ]
    }
   ],
   "source": [
    "#John Gargana\n",
    "#Program 10\n",
    "\n",
    "print(\"Welcome to the 'Three-Year-Old Simulator'\\n\")\n",
    "print(\"This program simulates a conversation with a three-year old child.\")\n",
    "print(\"Try to stop the madness.\\n\")\n",
    "\n",
    "response = \"\"\n",
    "while response != \"Because.\":\n",
    "    response = input(\"Why?\\n\")\n",
    "    \n",
    "print(\"Oh. Okay.\")\n",
    "      "
   ]
  },
  {
   "cell_type": "code",
   "execution_count": 2,
   "metadata": {},
   "outputs": [
    {
     "name": "stdout",
     "output_type": "stream",
     "text": [
      "Your lone hero is surrounded by a massive army of trolls.\n",
      "Their decaying green bodies stretch out, melting into the horizon.\n",
      "Your hero unsheathes his sword and begins the last fight of his life.\n",
      "\n",
      "Your hero swings and defeats an evil troll, but takes 3 damage points.\n",
      "\n",
      "Your hero swings and defeats an evil troll, but takes 3 damage points.\n",
      "\n",
      "Your hero swings and defeats an evil troll, but takes 3 damage points.\n",
      "\n",
      "Your hero swings and defeats an evil troll, but takes 3 damage points.\n",
      "\n",
      "Your hero fought valiantly and defeated 4 trolls.\n",
      "But alas, your hero is no more.\n"
     ]
    }
   ],
   "source": [
    "print(\"Your lone hero is surrounded by a massive army of trolls.\")\n",
    "print(\"Their decaying green bodies stretch out, melting into the horizon.\")\n",
    "print(\"Your hero unsheathes his sword and begins the last fight of his life.\\n\")\n",
    "\n",
    "\n",
    "health = 10\n",
    "trolls = 0\n",
    "damage = 3\n",
    "\n",
    "#Inital condition that causes infinite loop; while health != 0:\n",
    "while health > 0:\n",
    "    trolls += 1\n",
    "    health = health - damage\n",
    "    \n",
    "    print(\"Your hero swings and defeats an evil troll, but takes\", damage, \"damage points.\\n\")\n",
    "    \n",
    "print(\"Your hero fought valiantly and defeated\", trolls, \"trolls.\")\n",
    "print(\"But alas, your hero is no more.\")\n"
   ]
  },
  {
   "cell_type": "code",
   "execution_count": 3,
   "metadata": {},
   "outputs": [
    {
     "name": "stdout",
     "output_type": "stream",
     "text": [
      "Welcome to the Chateau D' Food.\n",
      "It seems we are quite full this evening.\n",
      "\n",
      "How many dollars do you slip the Maitre D'? 10\n",
      "Ah, I am reminded of a table. Right this way.\n"
     ]
    }
   ],
   "source": [
    "print(\"Welcome to the Chateau D' Food.\")\n",
    "print(\"It seems we are quite full this evening.\\n\")\n",
    "\n",
    "money = int(input(\"How many dollars do you slip the Maitre D'? \"))\n",
    "\n",
    "if money:\n",
    "    print(\"Ah, I am reminded of a table. Right this way.\")\n",
    "else:\n",
    "    print(\"Please, sit. It may be a while.\")\n",
    "    "
   ]
  },
  {
   "cell_type": "code",
   "execution_count": 4,
   "metadata": {},
   "outputs": [
    {
     "name": "stdout",
     "output_type": "stream",
     "text": [
      "1\n",
      "2\n",
      "3\n",
      "4\n",
      "6\n",
      "7\n",
      "8\n",
      "9\n",
      "10\n"
     ]
    }
   ],
   "source": [
    "count = 0 \n",
    "while True:\n",
    "    count += 1\n",
    "    #end loop if count is greater than 10\n",
    "    if count > 10:\n",
    "        break\n",
    "    #skip 5\n",
    "    if count == 5:\n",
    "        continue\n",
    "    print(count)"
   ]
  },
  {
   "cell_type": "code",
   "execution_count": null,
   "metadata": {},
   "outputs": [],
   "source": []
  }
 ],
 "metadata": {
  "kernelspec": {
   "display_name": "Python 3",
   "language": "python",
   "name": "python3"
  },
  "language_info": {
   "codemirror_mode": {
    "name": "ipython",
    "version": 3
   },
   "file_extension": ".py",
   "mimetype": "text/x-python",
   "name": "python",
   "nbconvert_exporter": "python",
   "pygments_lexer": "ipython3",
   "version": "3.7.1"
  }
 },
 "nbformat": 4,
 "nbformat_minor": 2
}
