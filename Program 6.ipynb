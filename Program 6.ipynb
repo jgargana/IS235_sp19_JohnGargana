{
 "cells": [
  {
   "cell_type": "code",
   "execution_count": null,
   "metadata": {},
   "outputs": [],
   "source": [
    "#John Gargana\n",
    "#Program #6\n",
    "\n",
    "\n",
    "import pandas as pd\n",
    "\n",
    "df1 = pd.read_csv(\"sentiment_analysis.csv\")\n",
    "\n",
    "lines = df1.index.size\n",
    "\n",
    "for i in range(lines):\n",
    "    \n",
    "    word = (df1.at[i, \"Sentiment\"])\n",
    "    \n",
    "    rating = float(df1.at[i, \"Rating\"])\n",
    "   \n",
    "    price = float(df1.at[i, \"Price\"])\n",
    "    \n",
    "    if \"e\" in word and \"w\" in word:\n",
    "        factor = 3000\n",
    "    elif \"r\" in word and \"t\" not in word:\n",
    "        factor = 4000\n",
    "    \n",
    "    target_price = rating*factor\n",
    "    \n",
    "   "
   ]
  }
 ],
 "metadata": {
  "kernelspec": {
   "display_name": "Python 3",
   "language": "python",
   "name": "python3"
  },
  "language_info": {
   "codemirror_mode": {
    "name": "ipython",
    "version": 3
   },
   "file_extension": ".py",
   "mimetype": "text/x-python",
   "name": "python",
   "nbconvert_exporter": "python",
   "pygments_lexer": "ipython3",
   "version": "3.7.1"
  }
 },
 "nbformat": 4,
 "nbformat_minor": 2
}
