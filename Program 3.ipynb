{
 "cells": [
  {
   "cell_type": "code",
   "execution_count": 1,
   "metadata": {},
   "outputs": [
    {
     "name": "stdout",
     "output_type": "stream",
     "text": [
      "input a rating between 1 and 102\n",
      "Input a price between 100000 and 2 million300000\n",
      "Don't buy\n"
     ]
    }
   ],
   "source": [
    "#John Gargana\n",
    "#Program 3\n",
    "\n",
    "#factor=123000\n",
    "factor = 123000\n",
    "#get rating from user (rating should vary between 0-10)\n",
    "rating_string=input(\"input a rating between 1 and 10\")\n",
    "rating_int=int(rating_string)\n",
    "#get price from user (price should vary between 100000 and 2 million)\n",
    "price_string=input(\"Input a price between 100000 and 2 million\")\n",
    "price_int=int(price_string)\n",
    "#make buy or dont buy decision\n",
    "if price_int<(rating_int*factor):\n",
    "    print(\"Buy\")\n",
    "elif price_int>(rating_int*factor):\n",
    "    print(\"Don't buy\")\n",
    "    #if the price is lower than the (rating*factor), buy\n",
    "    #if the price is higher than the (rating*factor), dont buy"
   ]
  },
  {
   "cell_type": "code",
   "execution_count": null,
   "metadata": {},
   "outputs": [],
   "source": []
  }
 ],
 "metadata": {
  "kernelspec": {
   "display_name": "Python 3",
   "language": "python",
   "name": "python3"
  },
  "language_info": {
   "codemirror_mode": {
    "name": "ipython",
    "version": 3
   },
   "file_extension": ".py",
   "mimetype": "text/x-python",
   "name": "python",
   "nbconvert_exporter": "python",
   "pygments_lexer": "ipython3",
   "version": "3.7.1"
  }
 },
 "nbformat": 4,
 "nbformat_minor": 2
}
