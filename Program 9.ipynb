{
 "cells": [
  {
   "cell_type": "code",
   "execution_count": 1,
   "metadata": {},
   "outputs": [
    {
     "name": "stdout",
     "output_type": "stream",
     "text": [
      "5\n",
      "7\n"
     ]
    }
   ],
   "source": [
    "#John Gargana\n",
    "#Program 9\n",
    "\n",
    "bruce = 5\n",
    "print (bruce)\n",
    "bruce = 7\n",
    "print (bruce)\n",
    "\n",
    "\n",
    "a = 5\n",
    "b = a \n",
    "a = 3"
   ]
  },
  {
   "cell_type": "code",
   "execution_count": 2,
   "metadata": {},
   "outputs": [
    {
     "name": "stdout",
     "output_type": "stream",
     "text": [
      "1\n"
     ]
    }
   ],
   "source": [
    "x = 0\n",
    "x = x+1\n",
    "print (x)"
   ]
  },
  {
   "cell_type": "code",
   "execution_count": 3,
   "metadata": {},
   "outputs": [],
   "source": [
    "def countdown (n):\n",
    "\n",
    "    n = 10\n",
    "\n",
    "    while n > 0:\n",
    "        print (n)\n",
    "        n = n-1\n",
    "    print (\"Blastoff! \\n\")\n",
    "\n",
    "def sequence (n):\n",
    "    \n",
    "    n = 16\n",
    "\n",
    "    while n != 1:\n",
    "        print (n)\n",
    "    if n%2 == 0: \n",
    "        n = n/2\n",
    "    else: \n",
    "        n = n*3+1"
   ]
  },
  {
   "cell_type": "code",
   "execution_count": null,
   "metadata": {},
   "outputs": [],
   "source": [
    "while True:\n",
    "    line = input(\"> \")\n",
    "    if line == \"done\":\n",
    "        break\n",
    "    print (line)\n",
    "print (\"Done!\")"
   ]
  },
  {
   "cell_type": "code",
   "execution_count": null,
   "metadata": {},
   "outputs": [],
   "source": []
  }
 ],
 "metadata": {
  "kernelspec": {
   "display_name": "Python 3",
   "language": "python",
   "name": "python3"
  },
  "language_info": {
   "codemirror_mode": {
    "name": "ipython",
    "version": 3
   },
   "file_extension": ".py",
   "mimetype": "text/x-python",
   "name": "python",
   "nbconvert_exporter": "python",
   "pygments_lexer": "ipython3",
   "version": "3.7.1"
  }
 },
 "nbformat": 4,
 "nbformat_minor": 2
}
