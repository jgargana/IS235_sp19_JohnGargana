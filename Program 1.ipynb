{
 "cells": [
  {
   "cell_type": "code",
   "execution_count": null,
   "metadata": {},
   "outputs": [],
   "source": [
    "# Useless Trivia\n",
    "#\n",
    "# Gets personal information from the user and then\n",
    "# prints true but useless information about him or her\n",
    "\n",
    "name = input(\"Hi.  What's your name? \")\n",
    "\n",
    "age = input(\"How old are you? \")\n",
    "age = int(age)\n",
    "\n",
    "weight = int(input(\"Okay, last question.  How many pounds do you weigh? \"))\n",
    "\n",
    "print(\"\\nIf poet ee cummings were to email you, he'd address you as\",\n",
    "      name.lower())\n",
    "print(\"But if ee were mad, he'd call you\", name.upper())\n",
    "\n",
    "called = name * 5\n",
    "print(\"\\nIf a small child were trying to get your attention\",)\n",
    "print(\"your name would become:\")\n",
    "print(called)\n",
    "\n",
    "seconds = age * 365 * 24 * 60 * 60\n",
    "print(\"\\nYou're over\", seconds, \"seconds old.\")\n",
    "\n",
    "moon_weight = weight / 6\n",
    "print(\"\\nDid you know that on the moon you would weigh only\",\n",
    "      moon_weight, \"pounds?\")\n",
    "\n",
    "sun_weight = weight * 27.1\n",
    "print(\"On the sun, you'd weigh\", sun_weight, \"(but, ah... not for long).\")\n",
    "\n",
    "input(\"\\n\\nPress the enter key to exit.\")"
   ]
  }
 ],
 "metadata": {
  "kernelspec": {
   "display_name": "Python 3",
   "language": "python",
   "name": "python3"
  },
  "language_info": {
   "codemirror_mode": {
    "name": "ipython",
    "version": 3
   },
   "file_extension": ".py",
   "mimetype": "text/x-python",
   "name": "python",
   "nbconvert_exporter": "python",
   "pygments_lexer": "ipython3",
   "version": "3.7.1"
  }
 },
 "nbformat": 4,
 "nbformat_minor": 2
}
