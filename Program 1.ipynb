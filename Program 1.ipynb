{
 "cells": [
  {
   "cell_type": "code",
   "execution_count": null,
   "metadata": {},
   "outputs": [],
   "source": [
    "#John Gargana\n",
    "#Program1\n",
    "\n",
    "name = input(\"What's your name? \")\n",
    "\n",
    "age = input(\"How old are you? \")\n",
    "age = int(age)\n",
    "\n",
    "weight = int(input(\"How much do you weigh? \"))\n",
    "\n",
    "print(\"If poet ee cummings were to email you, he'd address you as\",\n",
    "      name.lower())\n",
    "print(\"But if ee were mad, he'd call you\", name.upper())\n",
    "\n",
    "called = name * 5\n",
    "print(\"If a small child were trying to get your attention\",)\n",
    "print(\"your name would become:\")\n",
    "print(called)\n",
    "\n",
    "seconds = age * 365 * 24 * 60 * 60\n",
    "print(\"You're over\", seconds, \"seconds old.\")\n",
    "\n",
    "moon_weight = weight / 6\n",
    "print(\"Did you know that on the moon you would weigh only\",\n",
    "      moon_weight, \"pounds?\")\n",
    "\n",
    "sun_weight = weight * 27.1\n",
    "print(\"On the sun, you'd weigh\", sun_weight, \"(but, ah... not for long).\")\n"
   ]
  },
  {
   "cell_type": "code",
   "execution_count": null,
   "metadata": {},
   "outputs": [],
   "source": []
  }
 ],
 "metadata": {
  "kernelspec": {
   "display_name": "Python 3",
   "language": "python",
   "name": "python3"
  },
  "language_info": {
   "codemirror_mode": {
    "name": "ipython",
    "version": 3
   },
   "file_extension": ".py",
   "mimetype": "text/x-python",
   "name": "python",
   "nbconvert_exporter": "python",
   "pygments_lexer": "ipython3",
   "version": "3.7.1"
  }
 },
 "nbformat": 4,
 "nbformat_minor": 2
}
