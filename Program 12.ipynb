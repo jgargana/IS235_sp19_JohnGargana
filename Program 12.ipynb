{
 "cells": [
  {
   "cell_type": "code",
   "execution_count": null,
   "metadata": {},
   "outputs": [
    {
     "name": "stdout",
     "output_type": "stream",
     "text": [
      "Your items:\n",
      "Sword\n",
      "Armor\n",
      "Shield\n",
      "Healing Potion\n"
     ]
    }
   ],
   "source": [
    "#John Gargana\n",
    "#Program 12\n",
    "\n",
    "inventory = ()\n",
    "\n",
    "inventory = (\"Sword\", \"Armor\", \"Shield\", \"Healing Potion\")\n",
    "print(\"Your items:\")\n",
    "for item in inventory:\n",
    "    print (item)\n",
    "    \n",
    "input(\"Press the enter key to continue.\")\n",
    "\n",
    "print (\"You have\", len(inventory), \"items in your possession.\")\n",
    "\n",
    "input(\"Press the enter key to continue.\")\n",
    "\n",
    "if \"Healing Potion\" in inventory:\n",
    "    print (\"You will live to fight another day.\")\n",
    "\n",
    "index = int(input(\"\\nEnter the index number for an item in inventory: \"))\n",
    "print (\"At index\", index, \"is\", inventory[index])\n",
    "\n",
    "begin = int(input(\"\\nEnter the index number to begin a slice:\"))\n",
    "end = int(input(\"\\nEnter the index number to end the slice:\"))\n",
    "print(\"inventory[\", begin, \":\", end, \"]\\t\\t\")\n",
    "print(inventory[begin:end])\n"
   ]
  },
  {
   "cell_type": "code",
   "execution_count": null,
   "metadata": {},
   "outputs": [],
   "source": []
  }
 ],
 "metadata": {
  "kernelspec": {
   "display_name": "Python 3",
   "language": "python",
   "name": "python3"
  },
  "language_info": {
   "codemirror_mode": {
    "name": "ipython",
    "version": 3
   },
   "file_extension": ".py",
   "mimetype": "text/x-python",
   "name": "python",
   "nbconvert_exporter": "python",
   "pygments_lexer": "ipython3",
   "version": "3.7.1"
  }
 },
 "nbformat": 4,
 "nbformat_minor": 2
}
