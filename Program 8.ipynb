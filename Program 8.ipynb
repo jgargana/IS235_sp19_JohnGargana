{
 "cells": [
  {
   "cell_type": "code",
   "execution_count": 1,
   "metadata": {},
   "outputs": [
    {
     "name": "stdout",
     "output_type": "stream",
     "text": [
      "2.3333333333333335\n",
      "1\n",
      "x is positive\n",
      "x is odd\n",
      "x is greater than y\n",
      "x is greater than y\n",
      "x is a positive single-digit number.\n",
      "x is a positive single-digit number.\n"
     ]
    }
   ],
   "source": [
    "#John Gargana\n",
    "#Program 8\n",
    "\n",
    "\n",
    "quotient = 7/3\n",
    "print(quotient)\n",
    "\n",
    "remainder = 7%3\n",
    "print(remainder)\n",
    "\n",
    "\n",
    "5 == 5\n",
    "type(True)\n",
    "\n",
    "5 == 6\n",
    "type(False)\n",
    "\n",
    "x = 5\n",
    "if x > 0:\n",
    "    print(\"x is positive\")\n",
    "if x < 0:\n",
    "    pass \n",
    "\n",
    "\n",
    "if x%2 == 0:\n",
    "    print(\"x is even\")\n",
    "else:\n",
    "    print(\"x is odd\")\n",
    "    \n",
    "\n",
    "y = 4\n",
    "if x < y:\n",
    "    print (\"x is less than y\")\n",
    "elif x > y:\n",
    "    print (\"x is greater than y\")\n",
    "else:\n",
    "    print (\"x and y are equal\")\n",
    "    \n",
    "\n",
    "if x == y:\n",
    "    print (\"x and y are equal\")\n",
    "else:\n",
    "    if x < y:\n",
    "        print (\"x is less than y\")\n",
    "    else:\n",
    "        print (\"x is greater than y\")\n",
    "\n",
    "\n",
    "if 0 < x:\n",
    "    if x < 10:\n",
    "        print (\"x is a positive single-digit number.\")\n",
    "        \n",
    "if 0 < x and x < 10:\n",
    "    print (\"x is a positive single-digit number.\")"
   ]
  },
  {
   "cell_type": "code",
   "execution_count": null,
   "metadata": {},
   "outputs": [],
   "source": []
  }
 ],
 "metadata": {
  "kernelspec": {
   "display_name": "Python 3",
   "language": "python",
   "name": "python3"
  },
  "language_info": {
   "codemirror_mode": {
    "name": "ipython",
    "version": 3
   },
   "file_extension": ".py",
   "mimetype": "text/x-python",
   "name": "python",
   "nbconvert_exporter": "python",
   "pygments_lexer": "ipython3",
   "version": "3.7.1"
  }
 },
 "nbformat": 4,
 "nbformat_minor": 2
}
