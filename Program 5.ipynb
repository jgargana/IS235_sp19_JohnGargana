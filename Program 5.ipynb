{
 "cells": [
  {
   "cell_type": "code",
   "execution_count": 1,
   "metadata": {},
   "outputs": [
    {
     "name": "stdout",
     "output_type": "stream",
     "text": [
      "Input SentenceThis is my sentence\n",
      "T\n",
      "h\n",
      "i\n",
      "s\n",
      " \n",
      "i\n",
      "s\n",
      " \n",
      "m\n",
      "y\n",
      " \n",
      "s\n",
      "e\n",
      "n\n",
      "t\n",
      "e\n",
      "n\n",
      "c\n",
      "e\n",
      "The vowels are: iieee\n",
      "The consonants are: Thssmysntnc\n",
      "The other characters are:    \n",
      "Number of vowels = 5\n",
      "Number of consonants = 11\n",
      "Number of other characters = 3\n"
     ]
    }
   ],
   "source": [
    "#John Gargana\n",
    "#Program 5\n",
    "\n",
    "\n",
    "sentence1 = input(\"Input Sentence\")\n",
    "\n",
    "sentence2 = \"\"\n",
    "sentence3 = \"\"\n",
    "sentence4 = \"\"\n",
    "\n",
    "length = len(sentence1)\n",
    "\n",
    "VOWELS = \"aieouAEIOU\"\n",
    "\n",
    "CONSONANTS = \"bcdfghjklmnpqrstvwxyzBCDFGHJKLMNPQRSTVWXYZ\"\n",
    "\n",
    "vowel_count = 0\n",
    "\n",
    "consonant_count = 0 \n",
    "\n",
    "other_count = 0\n",
    "\n",
    "for i in range(length):\n",
    "    \n",
    "    if sentence1[i] in VOWELS:\n",
    "        print(sentence1[i])\n",
    "        sentence2+=sentence1[i]\n",
    "        vowel_count+=1\n",
    "    \n",
    "    elif sentence1[i] in CONSONANTS:\n",
    "        print(sentence1[i])\n",
    "        sentence3+=sentence1[i]\n",
    "        consonant_count+=1\n",
    "    \n",
    "    else:\n",
    "        print(sentence1[i])\n",
    "        sentence4+=sentence1[i]\n",
    "        other_count+=1\n",
    "\n",
    "print (\"The vowels are:\", sentence2)\n",
    "print (\"The consonants are:\", sentence3)\n",
    "print (\"The other characters are:\", sentence4)\n",
    "\n",
    "print (\"Number of vowels =\", vowel_count)\n",
    "\n",
    "print (\"Number of consonants =\", consonant_count)\n",
    "\n",
    "print (\"Number of other characters =\", other_count)\n"
   ]
  },
  {
   "cell_type": "code",
   "execution_count": null,
   "metadata": {},
   "outputs": [],
   "source": []
  }
 ],
 "metadata": {
  "kernelspec": {
   "display_name": "Python 3",
   "language": "python",
   "name": "python3"
  },
  "language_info": {
   "codemirror_mode": {
    "name": "ipython",
    "version": 3
   },
   "file_extension": ".py",
   "mimetype": "text/x-python",
   "name": "python",
   "nbconvert_exporter": "python",
   "pygments_lexer": "ipython3",
   "version": "3.7.1"
  }
 },
 "nbformat": 4,
 "nbformat_minor": 2
}
