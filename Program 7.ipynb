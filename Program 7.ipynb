{
 "cells": [
  {
   "cell_type": "code",
   "execution_count": null,
   "metadata": {},
   "outputs": [
    {
     "name": "stdout",
     "output_type": "stream",
     "text": [
      "Welcome to System Security Inc.\n",
      "-- where security is our middle name\n",
      "\n"
     ]
    }
   ],
   "source": [
    "#John Gargana\n",
    "#Program 7\n",
    "\n",
    "print(\"Welcome to System Security Inc.\")\n",
    "print(\"-- where security is our middle name\\n\")\n",
    "\n",
    "password = input(\"Enter your password:\")\n",
    "\n",
    "if password == \"secret\":\n",
    "    print(\"Access Granted\")\n",
    "    print(\"Welcome! You must be someone very important.\")\n",
    "else:\n",
    "    print(\"Access Denied\")\n",
    "    "
   ]
  },
  {
   "cell_type": "code",
   "execution_count": 1,
   "metadata": {},
   "outputs": [
    {
     "name": "stdout",
     "output_type": "stream",
     "text": [
      "I sense your energy. Your true emotions are coming across my screen.\n",
      "You are...\n",
      "sad\n",
      "...today.\n"
     ]
    }
   ],
   "source": [
    "import random\n",
    "\n",
    "print(\"I sense your energy. Your true emotions are coming across my screen.\")\n",
    "print(\"You are...\")\n",
    "\n",
    "mood = random.randrange(3)\n",
    "\n",
    "if mood == 0:\n",
    "    #happy\n",
    "    print (\"happy\")\n",
    "elif mood == 1:\n",
    "    #neutral\n",
    "    print (\"normal\")\n",
    "elif mood == 2:\n",
    "    #sad\n",
    "    print (\"sad\")\n",
    "else:\n",
    "    print (\"Illegal mood value! (You must be in a really bad mood).\")\n",
    "    \n",
    "print (\"...today.\")\n"
   ]
  },
  {
   "cell_type": "code",
   "execution_count": null,
   "metadata": {},
   "outputs": [],
   "source": []
  }
 ],
 "metadata": {
  "kernelspec": {
   "display_name": "Python 3",
   "language": "python",
   "name": "python3"
  },
  "language_info": {
   "codemirror_mode": {
    "name": "ipython",
    "version": 3
   },
   "file_extension": ".py",
   "mimetype": "text/x-python",
   "name": "python",
   "nbconvert_exporter": "python",
   "pygments_lexer": "ipython3",
   "version": "3.7.1"
  }
 },
 "nbformat": 4,
 "nbformat_minor": 2
}
