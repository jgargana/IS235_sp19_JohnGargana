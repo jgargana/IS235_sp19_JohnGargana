{
 "cells": [
  {
   "cell_type": "code",
   "execution_count": null,
   "metadata": {},
   "outputs": [
    {
     "name": "stdout",
     "output_type": "stream",
     "text": [
      "I'm thinking of a number between 1 and 100.\n",
      "Try to guess the number.\n",
      "Take a guess:4\n",
      "Higher\n",
      "Take a guess:45\n",
      "Higher\n",
      "Take a guess:70\n",
      "Higher\n",
      "Take a guess:85\n",
      "Lower\n",
      "Take a guess:82\n",
      "Lower\n",
      "Take a guess:78\n",
      "You guessed right. The number was 78\n",
      "It took you 6 tries.\n"
     ]
    }
   ],
   "source": [
    "#John Gargana\n",
    "#Program 4\n",
    "\n",
    "\n",
    "import random\n",
    "\n",
    "\n",
    "print(\"I'm thinking of a number between 1 and 100.\")\n",
    "print(\"Try to guess the number.\")\n",
    "\n",
    "the_number = random.randrange(100) + 1\n",
    "guess = int(input(\"Take a guess:\"))\n",
    "tries = 1\n",
    "\n",
    "while (guess!=the_number):\n",
    "    if(guess > the_number):\n",
    "        print(\"Lower\")\n",
    "    else:\n",
    "        print(\"Higher\")\n",
    "    guess = int(input(\"Take a guess:\"))\n",
    "    tries += 1\n",
    "\n",
    "print(\"You guessed right. The number was\", the_number)\n",
    "print(\"It took you\", tries, \"tries.\")\n",
    "\n",
    "input(\"Press the enter key to exit.\")"
   ]
  },
  {
   "cell_type": "code",
   "execution_count": null,
   "metadata": {},
   "outputs": [],
   "source": []
  }
 ],
 "metadata": {
  "kernelspec": {
   "display_name": "Python 3",
   "language": "python",
   "name": "python3"
  },
  "language_info": {
   "codemirror_mode": {
    "name": "ipython",
    "version": 3
   },
   "file_extension": ".py",
   "mimetype": "text/x-python",
   "name": "python",
   "nbconvert_exporter": "python",
   "pygments_lexer": "ipython3",
   "version": "3.7.1"
  }
 },
 "nbformat": 4,
 "nbformat_minor": 2
}
